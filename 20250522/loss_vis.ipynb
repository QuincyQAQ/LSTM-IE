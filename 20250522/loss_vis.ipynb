{
 "cells": [
  {
   "cell_type": "code",
   "execution_count": null,
   "id": "f3f2457a-6e8d-4aa4-a825-bfebc0d278be",
   "metadata": {},
   "outputs": [],
   "source": [
    "import pandas as pd\n",
    "import matplotlib.pyplot as plt\n",
    "import seaborn as sns\n",
    "\n",
    "# 设置绘图风格\n",
    "sns.set(style=\"whitegrid\")\n",
    "plt.rcParams['figure.dpi'] = 120\n",
    "\n",
    "# 读取一个模型的loss数据\n",
    "df_x = pd.read_csv('model_x_training_history.csv')\n",
    "\n",
    "# 创建单个子图\n",
    "fig, ax = plt.subplots(figsize=(10, 4))\n",
    "fig.suptitle('LSTM Training Loss Curve', fontsize=16)\n",
    "\n",
    "# 绘制 x-sequence 模型的曲线\n",
    "sns.lineplot(data=df_x, x='epoch', y='loss', ax=ax,\n",
    "             color='#3498db', linewidth=1.5, label='x-sequence')\n",
    "ax.set_title('x-sequence Model', fontsize=13)\n",
    "ax.set_xlabel('Training Epoch', fontsize=11)\n",
    "ax.set_ylabel('MSE Loss', fontsize=11)\n",
    "\n",
    "# 标记最小 loss\n",
    "min_loss_x = df_x['loss'].min()\n",
    "min_epoch_x = df_x[df_x['loss'] == min_loss_x]['epoch'].values[0]\n",
    "ax.scatter(min_epoch_x, min_loss_x, color='#3498db', s=80, edgecolor='black', zorder=5)\n",
    "ax.annotate(f'Min: {min_loss_x:.2e}',\n",
    "            (min_epoch_x, min_loss_x),\n",
    "            textcoords=\"offset points\",\n",
    "            xytext=(0, 10),\n",
    "            ha='center',\n",
    "            fontsize=10)\n",
    "\n",
    "# 添加参考线\n",
    "ax.axhline(y=1e-4, color='gray', linestyle='--', alpha=0.5)\n",
    "ax.text(x=0.7 * df_x['epoch'].max(), y=1.2e-4,\n",
    "        s='Reference (1e-4)', color='gray', fontsize=9)\n",
    "\n",
    "ax.legend(framealpha=0.9)\n",
    "\n",
    "# 保存高质量图片\n",
    "plt.tight_layout()\n",
    "plt.savefig('LSTM_training_loss_x_only.png', bbox_inches='tight', dpi=500)\n",
    "plt.show()\n"
   ]
  }
 ],
 "metadata": {
  "kernelspec": {
   "display_name": "Python 3 (ipykernel)",
   "language": "python",
   "name": "python3"
  },
  "language_info": {
   "codemirror_mode": {
    "name": "ipython",
    "version": 3
   },
   "file_extension": ".py",
   "mimetype": "text/x-python",
   "name": "python",
   "nbconvert_exporter": "python",
   "pygments_lexer": "ipython3",
   "version": "3.8.10"
  }
 },
 "nbformat": 4,
 "nbformat_minor": 5
}
